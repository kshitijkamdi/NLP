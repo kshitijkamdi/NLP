{
  "nbformat": 4,
  "nbformat_minor": 0,
  "metadata": {
    "colab": {
      "provenance": []
    },
    "kernelspec": {
      "name": "python3",
      "display_name": "Python 3"
    },
    "language_info": {
      "name": "python"
    }
  },
  "cells": [
    {
      "cell_type": "code",
      "execution_count": 6,
      "metadata": {
        "id": "-IODfaIjjqMJ"
      },
      "outputs": [],
      "source": [
        "paragraph= \"\"\"I have three visions for India.\n",
        "In 3000 years of our history, people from all over the world have come and invaded us, captured our lands, conquered our minds. From Alexander onwards. The Greeks, the Turks, the Mughals, the Portuguese, the British, the French, the Dutch, all of them came and looted us, took over what was ours. Yet we have not done this to any other nation.\n",
        "We have not conquered anyone.\n",
        "We have not grabbed their land, their culture,\n",
        "their history and tried to enforce our way of life on them.\n",
        "Why?\n",
        "Because we respect the freedom of others.\n",
        "\n",
        "That is why my first vision is freedom.\n",
        "I believe that India got its first vision of this in 1857, when we started the War of Independence.\n",
        "It is this freedom that we must protect and nurture and build on.\n",
        "If we are not free, no one will respect us.\"\"\""
      ]
    },
    {
      "cell_type": "code",
      "source": [
        "import nltk\n",
        "from nltk.stem import PorterStemmer\n",
        "from nltk.corpus import stopwords"
      ],
      "metadata": {
        "id": "DLspNgxej-E0"
      },
      "execution_count": 7,
      "outputs": []
    },
    {
      "cell_type": "code",
      "source": [
        " import nltk\n",
        " nltk.download('punkt_tab')"
      ],
      "metadata": {
        "colab": {
          "base_uri": "https://localhost:8080/"
        },
        "id": "yZqmoeWXk6mz",
        "outputId": "535a9f47-5cf3-42a5-c177-190936857ee7"
      },
      "execution_count": 4,
      "outputs": [
        {
          "output_type": "stream",
          "name": "stderr",
          "text": [
            "[nltk_data] Downloading package punkt_tab to /root/nltk_data...\n",
            "[nltk_data]   Unzipping tokenizers/punkt_tab.zip.\n"
          ]
        },
        {
          "output_type": "execute_result",
          "data": {
            "text/plain": [
              "True"
            ]
          },
          "metadata": {},
          "execution_count": 4
        }
      ]
    },
    {
      "cell_type": "code",
      "source": [
        "nltk.download('punkt')\n",
        "sentences= nltk.sent_tokenize(paragraph)"
      ],
      "metadata": {
        "colab": {
          "base_uri": "https://localhost:8080/"
        },
        "id": "PVKhGvT5ks_8",
        "outputId": "65eef19d-42df-419e-c993-c8f58cc5bb7c"
      },
      "execution_count": 8,
      "outputs": [
        {
          "output_type": "stream",
          "name": "stderr",
          "text": [
            "[nltk_data] Downloading package punkt to /root/nltk_data...\n",
            "[nltk_data]   Package punkt is already up-to-date!\n"
          ]
        }
      ]
    },
    {
      "cell_type": "code",
      "source": [
        "sentences"
      ],
      "metadata": {
        "colab": {
          "base_uri": "https://localhost:8080/"
        },
        "id": "Bad0ohC4lBoW",
        "outputId": "9eea7d86-7cbd-4eb9-9448-82e89b399af3"
      },
      "execution_count": 9,
      "outputs": [
        {
          "output_type": "execute_result",
          "data": {
            "text/plain": [
              "['I have three visions for India.',\n",
              " 'In 3000 years of our history, people from all over the world have come and invaded us, captured our lands, conquered our minds.',\n",
              " 'From Alexander onwards.',\n",
              " 'The Greeks, the Turks, the Mughals, the Portuguese, the British, the French, the Dutch, all of them came and looted us, took over what was ours.',\n",
              " 'Yet we have not done this to any other nation.',\n",
              " 'We have not conquered anyone.',\n",
              " 'We have not grabbed their land, their culture,\\ntheir history and tried to enforce our way of life on them.',\n",
              " 'Why?',\n",
              " 'Because we respect the freedom of others.',\n",
              " 'That is why my first vision is freedom.',\n",
              " 'I believe that India got its first vision of this in 1857, when we started the War of Independence.',\n",
              " 'It is this freedom that we must protect and nurture and build on.',\n",
              " 'If we are not free, no one will respect us.']"
            ]
          },
          "metadata": {},
          "execution_count": 9
        }
      ]
    },
    {
      "cell_type": "code",
      "source": [
        "# now removing the unwanted characters"
      ],
      "metadata": {
        "id": "51p9PObulFoh"
      },
      "execution_count": null,
      "outputs": []
    },
    {
      "cell_type": "code",
      "source": [
        "import re"
      ],
      "metadata": {
        "id": "OD_VVVWLlUkR"
      },
      "execution_count": 10,
      "outputs": []
    },
    {
      "cell_type": "code",
      "source": [
        "corpus=[]\n",
        "for i in range(len(sentences)):\n",
        "  review= re.sub('[^a-zA-Z]',' ',sentences[i])\n",
        "  review= review.lower()\n",
        "  corpus.append(review)"
      ],
      "metadata": {
        "id": "yxbEHJJ0lXaC"
      },
      "execution_count": 11,
      "outputs": []
    },
    {
      "cell_type": "code",
      "source": [
        "corpus"
      ],
      "metadata": {
        "colab": {
          "base_uri": "https://localhost:8080/"
        },
        "id": "oW1s-OJ_lipJ",
        "outputId": "24e6b754-6189-492d-e986-776d0b951a10"
      },
      "execution_count": 12,
      "outputs": [
        {
          "output_type": "execute_result",
          "data": {
            "text/plain": [
              "['i have three visions for india ',\n",
              " 'in      years of our history  people from all over the world have come and invaded us  captured our lands  conquered our minds ',\n",
              " 'from alexander onwards ',\n",
              " 'the greeks  the turks  the mughals  the portuguese  the british  the french  the dutch  all of them came and looted us  took over what was ours ',\n",
              " 'yet we have not done this to any other nation ',\n",
              " 'we have not conquered anyone ',\n",
              " 'we have not grabbed their land  their culture  their history and tried to enforce our way of life on them ',\n",
              " 'why ',\n",
              " 'because we respect the freedom of others ',\n",
              " 'that is why my first vision is freedom ',\n",
              " 'i believe that india got its first vision of this in       when we started the war of independence ',\n",
              " 'it is this freedom that we must protect and nurture and build on ',\n",
              " 'if we are not free  no one will respect us ']"
            ]
          },
          "metadata": {},
          "execution_count": 12
        }
      ]
    },
    {
      "cell_type": "code",
      "source": [
        "from sklearn.feature_extraction.text import CountVectorizer\n",
        "cv= CountVectorizer()\n",
        "X= cv.fit_transform(corpus).toarray()"
      ],
      "metadata": {
        "id": "fq2AmdXPluRT"
      },
      "execution_count": 13,
      "outputs": []
    },
    {
      "cell_type": "code",
      "source": [
        "cv.vocabulary_"
      ],
      "metadata": {
        "colab": {
          "base_uri": "https://localhost:8080/"
        },
        "id": "sGuhJDPZmPKQ",
        "outputId": "21001a1e-f0b6-4dd6-899e-71f85dd37db1"
      },
      "execution_count": 14,
      "outputs": [
        {
          "output_type": "execute_result",
          "data": {
            "text/plain": [
              "{'have': 27,\n",
              " 'three': 68,\n",
              " 'visions': 75,\n",
              " 'for': 19,\n",
              " 'india': 32,\n",
              " 'in': 30,\n",
              " 'years': 85,\n",
              " 'of': 49,\n",
              " 'our': 55,\n",
              " 'history': 28,\n",
              " 'people': 58,\n",
              " 'from': 23,\n",
              " 'all': 1,\n",
              " 'over': 57,\n",
              " 'the': 64,\n",
              " 'world': 84,\n",
              " 'come': 12,\n",
              " 'and': 2,\n",
              " 'invaded': 33,\n",
              " 'us': 73,\n",
              " 'captured': 11,\n",
              " 'lands': 38,\n",
              " 'conquered': 13,\n",
              " 'minds': 41,\n",
              " 'alexander': 0,\n",
              " 'onwards': 52,\n",
              " 'greeks': 26,\n",
              " 'turks': 72,\n",
              " 'mughals': 42,\n",
              " 'portuguese': 59,\n",
              " 'british': 8,\n",
              " 'french': 22,\n",
              " 'dutch': 16,\n",
              " 'them': 66,\n",
              " 'came': 10,\n",
              " 'looted': 40,\n",
              " 'took': 70,\n",
              " 'what': 80,\n",
              " 'was': 77,\n",
              " 'ours': 56,\n",
              " 'yet': 86,\n",
              " 'we': 79,\n",
              " 'not': 47,\n",
              " 'done': 15,\n",
              " 'this': 67,\n",
              " 'to': 69,\n",
              " 'any': 3,\n",
              " 'other': 53,\n",
              " 'nation': 45,\n",
              " 'anyone': 4,\n",
              " 'grabbed': 25,\n",
              " 'their': 65,\n",
              " 'land': 37,\n",
              " 'culture': 14,\n",
              " 'tried': 71,\n",
              " 'enforce': 17,\n",
              " 'way': 78,\n",
              " 'life': 39,\n",
              " 'on': 50,\n",
              " 'why': 82,\n",
              " 'because': 6,\n",
              " 'respect': 61,\n",
              " 'freedom': 21,\n",
              " 'others': 54,\n",
              " 'that': 63,\n",
              " 'is': 34,\n",
              " 'my': 44,\n",
              " 'first': 18,\n",
              " 'vision': 74,\n",
              " 'believe': 7,\n",
              " 'got': 24,\n",
              " 'its': 36,\n",
              " 'when': 81,\n",
              " 'started': 62,\n",
              " 'war': 76,\n",
              " 'independence': 31,\n",
              " 'it': 35,\n",
              " 'must': 43,\n",
              " 'protect': 60,\n",
              " 'nurture': 48,\n",
              " 'build': 9,\n",
              " 'if': 29,\n",
              " 'are': 5,\n",
              " 'free': 20,\n",
              " 'no': 46,\n",
              " 'one': 51,\n",
              " 'will': 83}"
            ]
          },
          "metadata": {},
          "execution_count": 14
        }
      ]
    },
    {
      "cell_type": "code",
      "source": [
        "corpus[0]"
      ],
      "metadata": {
        "colab": {
          "base_uri": "https://localhost:8080/",
          "height": 36
        },
        "id": "XFawdn6FmWxJ",
        "outputId": "78a84069-435b-4c3c-d9f7-cd1595865006"
      },
      "execution_count": null,
      "outputs": [
        {
          "output_type": "execute_result",
          "data": {
            "text/plain": [
              "'i have three visions for india '"
            ],
            "application/vnd.google.colaboratory.intrinsic+json": {
              "type": "string"
            }
          },
          "metadata": {},
          "execution_count": 15
        }
      ]
    },
    {
      "cell_type": "code",
      "source": [
        "X[0]"
      ],
      "metadata": {
        "colab": {
          "base_uri": "https://localhost:8080/"
        },
        "id": "fviHN6BSmiy-",
        "outputId": "a42967b3-c5ed-4982-e4bd-59ff91e42d3d"
      },
      "execution_count": null,
      "outputs": [
        {
          "output_type": "execute_result",
          "data": {
            "text/plain": [
              "array([0, 0, 0, 0, 0, 0, 0, 0, 0, 0, 0, 0, 0, 0, 0, 0, 0, 0, 0, 1, 0, 0,\n",
              "       0, 0, 0, 0, 0, 1, 0, 0, 0, 0, 1, 0, 0, 0, 0, 0, 0, 0, 0, 0, 0, 0,\n",
              "       0, 0, 0, 0, 0, 0, 0, 0, 0, 0, 0, 0, 0, 0, 0, 0, 0, 0, 0, 0, 0, 0,\n",
              "       0, 0, 1, 0, 0, 0, 0, 0, 0, 1, 0, 0, 0, 0, 0, 0, 0, 0, 0, 0, 0])"
            ]
          },
          "metadata": {},
          "execution_count": 17
        }
      ]
    },
    {
      "cell_type": "code",
      "source": [
        "corpus=[]\n",
        "for i in range(len(sentences)):\n",
        "  review= re.sub('[^a-zA-Z]',' ',sentences[i])\n",
        "  review= review.lower()\n",
        "  corpus.append(review)"
      ],
      "metadata": {
        "id": "eCoMhaY4y7_y"
      },
      "execution_count": 16,
      "outputs": []
    },
    {
      "cell_type": "code",
      "source": [
        "from sklearn.feature_extraction.text import CountVectorizer\n",
        "cv= CountVectorizer(binary= True, ngram_range=(2,3))\n",
        "X= cv.fit_transform(corpus).toarray()"
      ],
      "metadata": {
        "id": "nfBHppkmmru6"
      },
      "execution_count": 18,
      "outputs": []
    },
    {
      "cell_type": "code",
      "source": [
        "cv.vocabulary_"
      ],
      "metadata": {
        "colab": {
          "base_uri": "https://localhost:8080/"
        },
        "id": "CXByyQuex-tb",
        "outputId": "495b030e-39bc-43ba-f965-1327708ab6e9"
      },
      "execution_count": 19,
      "outputs": [
        {
          "output_type": "execute_result",
          "data": {
            "text/plain": [
              "{'have three': 71,\n",
              " 'three visions': 198,\n",
              " 'visions for': 218,\n",
              " 'for india': 46,\n",
              " 'have three visions': 72,\n",
              " 'three visions for': 199,\n",
              " 'visions for india': 219,\n",
              " 'in years': 81,\n",
              " 'years of': 245,\n",
              " 'of our': 126,\n",
              " 'our history': 136,\n",
              " 'history people': 75,\n",
              " 'people from': 147,\n",
              " 'from all': 57,\n",
              " 'all over': 3,\n",
              " 'over the': 143,\n",
              " 'the world': 182,\n",
              " 'world have': 243,\n",
              " 'have come': 65,\n",
              " 'come and': 30,\n",
              " 'and invaded': 7,\n",
              " 'invaded us': 85,\n",
              " 'us captured': 210,\n",
              " 'captured our': 28,\n",
              " 'our lands': 138,\n",
              " 'lands conquered': 98,\n",
              " 'conquered our': 33,\n",
              " 'our minds': 140,\n",
              " 'in years of': 82,\n",
              " 'years of our': 246,\n",
              " 'of our history': 127,\n",
              " 'our history people': 137,\n",
              " 'history people from': 76,\n",
              " 'people from all': 148,\n",
              " 'from all over': 58,\n",
              " 'all over the': 4,\n",
              " 'over the world': 144,\n",
              " 'the world have': 183,\n",
              " 'world have come': 244,\n",
              " 'have come and': 66,\n",
              " 'come and invaded': 31,\n",
              " 'and invaded us': 8,\n",
              " 'invaded us captured': 86,\n",
              " 'us captured our': 211,\n",
              " 'captured our lands': 29,\n",
              " 'our lands conquered': 139,\n",
              " 'lands conquered our': 99,\n",
              " 'conquered our minds': 34,\n",
              " 'from alexander': 55,\n",
              " 'alexander onwards': 0,\n",
              " 'from alexander onwards': 56,\n",
              " 'the greeks': 172,\n",
              " 'greeks the': 63,\n",
              " 'the turks': 178,\n",
              " 'turks the': 208,\n",
              " 'the mughals': 174,\n",
              " 'mughals the': 104,\n",
              " 'the portuguese': 176,\n",
              " 'portuguese the': 149,\n",
              " 'the british': 164,\n",
              " 'british the': 23,\n",
              " 'the french': 170,\n",
              " 'french the': 53,\n",
              " 'the dutch': 166,\n",
              " 'dutch all': 39,\n",
              " 'all of': 1,\n",
              " 'of them': 128,\n",
              " 'them came': 190,\n",
              " 'came and': 26,\n",
              " 'and looted': 9,\n",
              " 'looted us': 102,\n",
              " 'us took': 212,\n",
              " 'took over': 204,\n",
              " 'over what': 145,\n",
              " 'what was': 235,\n",
              " 'was ours': 222,\n",
              " 'the greeks the': 173,\n",
              " 'greeks the turks': 64,\n",
              " 'the turks the': 179,\n",
              " 'turks the mughals': 209,\n",
              " 'the mughals the': 175,\n",
              " 'mughals the portuguese': 105,\n",
              " 'the portuguese the': 177,\n",
              " 'portuguese the british': 150,\n",
              " 'the british the': 165,\n",
              " 'british the french': 24,\n",
              " 'the french the': 171,\n",
              " 'french the dutch': 54,\n",
              " 'the dutch all': 167,\n",
              " 'dutch all of': 40,\n",
              " 'all of them': 2,\n",
              " 'of them came': 129,\n",
              " 'them came and': 191,\n",
              " 'came and looted': 27,\n",
              " 'and looted us': 10,\n",
              " 'looted us took': 103,\n",
              " 'us took over': 213,\n",
              " 'took over what': 205,\n",
              " 'over what was': 146,\n",
              " 'what was ours': 236,\n",
              " 'yet we': 247,\n",
              " 'we have': 227,\n",
              " 'have not': 67,\n",
              " 'not done': 114,\n",
              " 'done this': 37,\n",
              " 'this to': 196,\n",
              " 'to any': 200,\n",
              " 'any other': 15,\n",
              " 'other nation': 135,\n",
              " 'yet we have': 248,\n",
              " 'we have not': 228,\n",
              " 'have not done': 69,\n",
              " 'not done this': 115,\n",
              " 'done this to': 38,\n",
              " 'this to any': 197,\n",
              " 'to any other': 201,\n",
              " 'any other nation': 16,\n",
              " 'not conquered': 112,\n",
              " 'conquered anyone': 32,\n",
              " 'have not conquered': 68,\n",
              " 'not conquered anyone': 113,\n",
              " 'not grabbed': 118,\n",
              " 'grabbed their': 61,\n",
              " 'their land': 188,\n",
              " 'land their': 96,\n",
              " 'their culture': 184,\n",
              " 'culture their': 35,\n",
              " 'their history': 186,\n",
              " 'history and': 73,\n",
              " 'and tried': 13,\n",
              " 'tried to': 206,\n",
              " 'to enforce': 202,\n",
              " 'enforce our': 41,\n",
              " 'our way': 141,\n",
              " 'way of': 223,\n",
              " 'of life': 123,\n",
              " 'life on': 100,\n",
              " 'on them': 132,\n",
              " 'have not grabbed': 70,\n",
              " 'not grabbed their': 119,\n",
              " 'grabbed their land': 62,\n",
              " 'their land their': 189,\n",
              " 'land their culture': 97,\n",
              " 'their culture their': 185,\n",
              " 'culture their history': 36,\n",
              " 'their history and': 187,\n",
              " 'history and tried': 74,\n",
              " 'and tried to': 14,\n",
              " 'tried to enforce': 207,\n",
              " 'to enforce our': 203,\n",
              " 'enforce our way': 42,\n",
              " 'our way of': 142,\n",
              " 'way of life': 224,\n",
              " 'of life on': 124,\n",
              " 'life on them': 101,\n",
              " 'because we': 19,\n",
              " 'we respect': 231,\n",
              " 'respect the': 153,\n",
              " 'the freedom': 168,\n",
              " 'freedom of': 49,\n",
              " 'of others': 125,\n",
              " 'because we respect': 20,\n",
              " 'we respect the': 232,\n",
              " 'respect the freedom': 154,\n",
              " 'the freedom of': 169,\n",
              " 'freedom of others': 50,\n",
              " 'that is': 160,\n",
              " 'is why': 90,\n",
              " 'why my': 239,\n",
              " 'my first': 108,\n",
              " 'first vision': 43,\n",
              " 'vision is': 214,\n",
              " 'is freedom': 87,\n",
              " 'that is why': 161,\n",
              " 'is why my': 91,\n",
              " 'why my first': 240,\n",
              " 'my first vision': 109,\n",
              " 'first vision is': 44,\n",
              " 'vision is freedom': 215,\n",
              " 'believe that': 21,\n",
              " 'that india': 158,\n",
              " 'india got': 83,\n",
              " 'got its': 59,\n",
              " 'its first': 94,\n",
              " 'vision of': 216,\n",
              " 'of this': 130,\n",
              " 'this in': 194,\n",
              " 'in when': 79,\n",
              " 'when we': 237,\n",
              " 'we started': 233,\n",
              " 'started the': 156,\n",
              " 'the war': 180,\n",
              " 'war of': 220,\n",
              " 'of independence': 122,\n",
              " 'believe that india': 22,\n",
              " 'that india got': 159,\n",
              " 'india got its': 84,\n",
              " 'got its first': 60,\n",
              " 'its first vision': 95,\n",
              " 'first vision of': 45,\n",
              " 'vision of this': 217,\n",
              " 'of this in': 131,\n",
              " 'this in when': 195,\n",
              " 'in when we': 80,\n",
              " 'when we started': 238,\n",
              " 'we started the': 234,\n",
              " 'started the war': 157,\n",
              " 'the war of': 181,\n",
              " 'war of independence': 221,\n",
              " 'it is': 92,\n",
              " 'is this': 88,\n",
              " 'this freedom': 192,\n",
              " 'freedom that': 51,\n",
              " 'that we': 162,\n",
              " 'we must': 229,\n",
              " 'must protect': 106,\n",
              " 'protect and': 151,\n",
              " 'and nurture': 11,\n",
              " 'nurture and': 120,\n",
              " 'and build': 5,\n",
              " 'build on': 25,\n",
              " 'it is this': 93,\n",
              " 'is this freedom': 89,\n",
              " 'this freedom that': 193,\n",
              " 'freedom that we': 52,\n",
              " 'that we must': 163,\n",
              " 'we must protect': 230,\n",
              " 'must protect and': 107,\n",
              " 'protect and nurture': 152,\n",
              " 'and nurture and': 12,\n",
              " 'nurture and build': 121,\n",
              " 'and build on': 6,\n",
              " 'if we': 77,\n",
              " 'we are': 225,\n",
              " 'are not': 17,\n",
              " 'not free': 116,\n",
              " 'free no': 47,\n",
              " 'no one': 110,\n",
              " 'one will': 133,\n",
              " 'will respect': 241,\n",
              " 'respect us': 155,\n",
              " 'if we are': 78,\n",
              " 'we are not': 226,\n",
              " 'are not free': 18,\n",
              " 'not free no': 117,\n",
              " 'free no one': 48,\n",
              " 'no one will': 111,\n",
              " 'one will respect': 134,\n",
              " 'will respect us': 242}"
            ]
          },
          "metadata": {},
          "execution_count": 19
        }
      ]
    },
    {
      "cell_type": "code",
      "source": [
        "corpus[0]"
      ],
      "metadata": {
        "colab": {
          "base_uri": "https://localhost:8080/",
          "height": 36
        },
        "id": "VsLtnP19zP5z",
        "outputId": "a63ee070-d168-4162-e1ae-8719da511ffa"
      },
      "execution_count": 20,
      "outputs": [
        {
          "output_type": "execute_result",
          "data": {
            "text/plain": [
              "'i have three visions for india '"
            ],
            "application/vnd.google.colaboratory.intrinsic+json": {
              "type": "string"
            }
          },
          "metadata": {},
          "execution_count": 20
        }
      ]
    },
    {
      "cell_type": "code",
      "source": [
        "X[0]"
      ],
      "metadata": {
        "colab": {
          "base_uri": "https://localhost:8080/"
        },
        "id": "5QOHJVOTzcQr",
        "outputId": "6949bea2-bc0d-4f73-a8a0-f84657d541f8"
      },
      "execution_count": 21,
      "outputs": [
        {
          "output_type": "execute_result",
          "data": {
            "text/plain": [
              "array([0, 0, 0, 0, 0, 0, 0, 0, 0, 0, 0, 0, 0, 0, 0, 0, 0, 0, 0, 0, 0, 0,\n",
              "       0, 0, 0, 0, 0, 0, 0, 0, 0, 0, 0, 0, 0, 0, 0, 0, 0, 0, 0, 0, 0, 0,\n",
              "       0, 0, 1, 0, 0, 0, 0, 0, 0, 0, 0, 0, 0, 0, 0, 0, 0, 0, 0, 0, 0, 0,\n",
              "       0, 0, 0, 0, 0, 1, 1, 0, 0, 0, 0, 0, 0, 0, 0, 0, 0, 0, 0, 0, 0, 0,\n",
              "       0, 0, 0, 0, 0, 0, 0, 0, 0, 0, 0, 0, 0, 0, 0, 0, 0, 0, 0, 0, 0, 0,\n",
              "       0, 0, 0, 0, 0, 0, 0, 0, 0, 0, 0, 0, 0, 0, 0, 0, 0, 0, 0, 0, 0, 0,\n",
              "       0, 0, 0, 0, 0, 0, 0, 0, 0, 0, 0, 0, 0, 0, 0, 0, 0, 0, 0, 0, 0, 0,\n",
              "       0, 0, 0, 0, 0, 0, 0, 0, 0, 0, 0, 0, 0, 0, 0, 0, 0, 0, 0, 0, 0, 0,\n",
              "       0, 0, 0, 0, 0, 0, 0, 0, 0, 0, 0, 0, 0, 0, 0, 0, 0, 0, 0, 0, 0, 0,\n",
              "       1, 1, 0, 0, 0, 0, 0, 0, 0, 0, 0, 0, 0, 0, 0, 0, 0, 0, 0, 0, 1, 1,\n",
              "       0, 0, 0, 0, 0, 0, 0, 0, 0, 0, 0, 0, 0, 0, 0, 0, 0, 0, 0, 0, 0, 0,\n",
              "       0, 0, 0, 0, 0, 0, 0])"
            ]
          },
          "metadata": {},
          "execution_count": 21
        }
      ]
    },
    {
      "cell_type": "code",
      "source": [
        "## TF-IDF\n",
        "from sklearn.feature_extraction.text import TfidfVectorizer\n",
        "cv= TfidfVectorizer()\n",
        "X= cv.fit_transform(corpus).toarray()"
      ],
      "metadata": {
        "id": "gyxcuyAUzd_U"
      },
      "execution_count": 22,
      "outputs": []
    },
    {
      "cell_type": "code",
      "source": [
        "corpus[0]"
      ],
      "metadata": {
        "colab": {
          "base_uri": "https://localhost:8080/",
          "height": 36
        },
        "id": "3RB85A3N0W14",
        "outputId": "81a868b7-566a-49db-931f-100bd44cda27"
      },
      "execution_count": 23,
      "outputs": [
        {
          "output_type": "execute_result",
          "data": {
            "text/plain": [
              "'i have three visions for india '"
            ],
            "application/vnd.google.colaboratory.intrinsic+json": {
              "type": "string"
            }
          },
          "metadata": {},
          "execution_count": 23
        }
      ]
    },
    {
      "cell_type": "code",
      "source": [
        "X[0]"
      ],
      "metadata": {
        "colab": {
          "base_uri": "https://localhost:8080/"
        },
        "id": "unXAt17_0ZPf",
        "outputId": "f3825bd2-9ed8-4969-842f-9641ab259527"
      },
      "execution_count": 26,
      "outputs": [
        {
          "output_type": "execute_result",
          "data": {
            "text/plain": [
              "array([0.        , 0.        , 0.        , 0.        , 0.        ,\n",
              "       0.        , 0.        , 0.        , 0.        , 0.        ,\n",
              "       0.        , 0.        , 0.        , 0.        , 0.        ,\n",
              "       0.        , 0.        , 0.        , 0.        , 0.49165789,\n",
              "       0.        , 0.        , 0.        , 0.        , 0.        ,\n",
              "       0.        , 0.        , 0.30830491, 0.        , 0.        ,\n",
              "       0.        , 0.        , 0.42398776, 0.        , 0.        ,\n",
              "       0.        , 0.        , 0.        , 0.        , 0.        ,\n",
              "       0.        , 0.        , 0.        , 0.        , 0.        ,\n",
              "       0.        , 0.        , 0.        , 0.        , 0.        ,\n",
              "       0.        , 0.        , 0.        , 0.        , 0.        ,\n",
              "       0.        , 0.        , 0.        , 0.        , 0.        ,\n",
              "       0.        , 0.        , 0.        , 0.        , 0.        ,\n",
              "       0.        , 0.        , 0.        , 0.49165789, 0.        ,\n",
              "       0.        , 0.        , 0.        , 0.        , 0.        ,\n",
              "       0.49165789, 0.        , 0.        , 0.        , 0.        ,\n",
              "       0.        , 0.        , 0.        , 0.        , 0.        ,\n",
              "       0.        , 0.        ])"
            ]
          },
          "metadata": {},
          "execution_count": 26
        }
      ]
    },
    {
      "cell_type": "code",
      "source": [
        "## TF-IDF\n",
        "from sklearn.feature_extraction.text import TfidfVectorizer\n",
        "cv= TfidfVectorizer(ngram_range=(2,3))\n",
        "X= cv.fit_transform(corpus).toarray()"
      ],
      "metadata": {
        "id": "LOycwGXE0fQr"
      },
      "execution_count": 27,
      "outputs": []
    },
    {
      "cell_type": "code",
      "source": [
        "X[0]"
      ],
      "metadata": {
        "colab": {
          "base_uri": "https://localhost:8080/"
        },
        "id": "5hsdfovq02gk",
        "outputId": "76e02c3a-29bc-4920-cac0-ebc5fa4b5c4a"
      },
      "execution_count": 29,
      "outputs": [
        {
          "output_type": "execute_result",
          "data": {
            "text/plain": [
              "array([0.        , 0.        , 0.        , 0.        , 0.        ,\n",
              "       0.        , 0.        , 0.        , 0.        , 0.        ,\n",
              "       0.        , 0.        , 0.        , 0.        , 0.        ,\n",
              "       0.        , 0.        , 0.        , 0.        , 0.        ,\n",
              "       0.        , 0.        , 0.        , 0.        , 0.        ,\n",
              "       0.        , 0.        , 0.        , 0.        , 0.        ,\n",
              "       0.        , 0.        , 0.        , 0.        , 0.        ,\n",
              "       0.        , 0.        , 0.        , 0.        , 0.        ,\n",
              "       0.        , 0.        , 0.        , 0.        , 0.        ,\n",
              "       0.        , 0.37796447, 0.        , 0.        , 0.        ,\n",
              "       0.        , 0.        , 0.        , 0.        , 0.        ,\n",
              "       0.        , 0.        , 0.        , 0.        , 0.        ,\n",
              "       0.        , 0.        , 0.        , 0.        , 0.        ,\n",
              "       0.        , 0.        , 0.        , 0.        , 0.        ,\n",
              "       0.        , 0.37796447, 0.37796447, 0.        , 0.        ,\n",
              "       0.        , 0.        , 0.        , 0.        , 0.        ,\n",
              "       0.        , 0.        , 0.        , 0.        , 0.        ,\n",
              "       0.        , 0.        , 0.        , 0.        , 0.        ,\n",
              "       0.        , 0.        , 0.        , 0.        , 0.        ,\n",
              "       0.        , 0.        , 0.        , 0.        , 0.        ,\n",
              "       0.        , 0.        , 0.        , 0.        , 0.        ,\n",
              "       0.        , 0.        , 0.        , 0.        , 0.        ,\n",
              "       0.        , 0.        , 0.        , 0.        , 0.        ,\n",
              "       0.        , 0.        , 0.        , 0.        , 0.        ,\n",
              "       0.        , 0.        , 0.        , 0.        , 0.        ,\n",
              "       0.        , 0.        , 0.        , 0.        , 0.        ,\n",
              "       0.        , 0.        , 0.        , 0.        , 0.        ,\n",
              "       0.        , 0.        , 0.        , 0.        , 0.        ,\n",
              "       0.        , 0.        , 0.        , 0.        , 0.        ,\n",
              "       0.        , 0.        , 0.        , 0.        , 0.        ,\n",
              "       0.        , 0.        , 0.        , 0.        , 0.        ,\n",
              "       0.        , 0.        , 0.        , 0.        , 0.        ,\n",
              "       0.        , 0.        , 0.        , 0.        , 0.        ,\n",
              "       0.        , 0.        , 0.        , 0.        , 0.        ,\n",
              "       0.        , 0.        , 0.        , 0.        , 0.        ,\n",
              "       0.        , 0.        , 0.        , 0.        , 0.        ,\n",
              "       0.        , 0.        , 0.        , 0.        , 0.        ,\n",
              "       0.        , 0.        , 0.        , 0.        , 0.        ,\n",
              "       0.        , 0.        , 0.        , 0.        , 0.        ,\n",
              "       0.        , 0.        , 0.        , 0.37796447, 0.37796447,\n",
              "       0.        , 0.        , 0.        , 0.        , 0.        ,\n",
              "       0.        , 0.        , 0.        , 0.        , 0.        ,\n",
              "       0.        , 0.        , 0.        , 0.        , 0.        ,\n",
              "       0.        , 0.        , 0.        , 0.37796447, 0.37796447,\n",
              "       0.        , 0.        , 0.        , 0.        , 0.        ,\n",
              "       0.        , 0.        , 0.        , 0.        , 0.        ,\n",
              "       0.        , 0.        , 0.        , 0.        , 0.        ,\n",
              "       0.        , 0.        , 0.        , 0.        , 0.        ,\n",
              "       0.        , 0.        , 0.        , 0.        , 0.        ,\n",
              "       0.        , 0.        , 0.        , 0.        ])"
            ]
          },
          "metadata": {},
          "execution_count": 29
        }
      ]
    },
    {
      "cell_type": "code",
      "source": [
        "## TF-IDF\n",
        "from sklearn.feature_extraction.text import TfidfVectorizer\n",
        "cv= TfidfVectorizer(ngram_range=(1,2), max_features=5)\n",
        "X= cv.fit_transform(corpus).toarray()"
      ],
      "metadata": {
        "id": "zpX4BF5Y03ru"
      },
      "execution_count": 32,
      "outputs": []
    },
    {
      "cell_type": "code",
      "source": [
        "X[0]"
      ],
      "metadata": {
        "colab": {
          "base_uri": "https://localhost:8080/"
        },
        "id": "R1a_xWAp1w9o",
        "outputId": "a206e559-678e-4a99-fa0c-0b6c87d376da"
      },
      "execution_count": 33,
      "outputs": [
        {
          "output_type": "execute_result",
          "data": {
            "text/plain": [
              "array([0., 1., 0., 0., 0.])"
            ]
          },
          "metadata": {},
          "execution_count": 33
        }
      ]
    },
    {
      "cell_type": "code",
      "source": [],
      "metadata": {
        "id": "xsa-ZpJK1x2I"
      },
      "execution_count": null,
      "outputs": []
    }
  ]
}