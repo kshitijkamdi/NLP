{
  "nbformat": 4,
  "nbformat_minor": 0,
  "metadata": {
    "colab": {
      "provenance": []
    },
    "kernelspec": {
      "name": "python3",
      "display_name": "Python 3"
    },
    "language_info": {
      "name": "python"
    }
  },
  "cells": [
    {
      "cell_type": "code",
      "execution_count": null,
      "metadata": {
        "colab": {
          "base_uri": "https://localhost:8080/"
        },
        "id": "9YiabSO-faTo",
        "outputId": "f1d9979c-7625-4d00-b140-68849cf8c12f"
      },
      "outputs": [
        {
          "output_type": "stream",
          "name": "stdout",
          "text": [
            "Requirement already satisfied: nltk in /usr/local/lib/python3.11/dist-packages (3.9.1)\n",
            "Requirement already satisfied: click in /usr/local/lib/python3.11/dist-packages (from nltk) (8.2.1)\n",
            "Requirement already satisfied: joblib in /usr/local/lib/python3.11/dist-packages (from nltk) (1.5.1)\n",
            "Requirement already satisfied: regex>=2021.8.3 in /usr/local/lib/python3.11/dist-packages (from nltk) (2024.11.6)\n",
            "Requirement already satisfied: tqdm in /usr/local/lib/python3.11/dist-packages (from nltk) (4.67.1)\n"
          ]
        }
      ],
      "source": [
        "!pip install nltk"
      ]
    },
    {
      "cell_type": "code",
      "source": [
        "corpus= \"\"\" This is Kshitij Kamdi, a third year student.\n",
        "I also do make videos on youtube.\n",
        "I am a travel vlogger.\n",
        "\"\"\""
      ],
      "metadata": {
        "id": "sv8C_YT9fso1"
      },
      "execution_count": null,
      "outputs": []
    },
    {
      "cell_type": "code",
      "source": [
        "print(corpus)"
      ],
      "metadata": {
        "colab": {
          "base_uri": "https://localhost:8080/"
        },
        "id": "Yx3TTHJcgGeP",
        "outputId": "266b246e-fdfe-481b-98b5-4b6fa8c8cda4"
      },
      "execution_count": null,
      "outputs": [
        {
          "output_type": "stream",
          "name": "stdout",
          "text": [
            " This is Kshitij Kamdi, a third year student.\n",
            "I also do make videos on youtube.\n",
            "I am a travel vlogger.\n",
            "\n"
          ]
        }
      ]
    },
    {
      "cell_type": "code",
      "source": [
        "#Tokenization\n",
        "#sentence-> words\n",
        "from nltk.tokenize import sent_tokenize"
      ],
      "metadata": {
        "id": "IHGJajk4gQWf"
      },
      "execution_count": null,
      "outputs": []
    },
    {
      "cell_type": "code",
      "source": [
        "import nltk\n",
        "nltk.download('punkt') # Download the punkt tokenizer resource"
      ],
      "metadata": {
        "colab": {
          "base_uri": "https://localhost:8080/"
        },
        "id": "XkFsE7-xgfI9",
        "outputId": "3401b1d2-a0c6-4b37-97d7-3b47427274d1"
      },
      "execution_count": null,
      "outputs": [
        {
          "output_type": "stream",
          "name": "stderr",
          "text": [
            "[nltk_data] Downloading package punkt to /root/nltk_data...\n",
            "[nltk_data]   Package punkt is already up-to-date!\n"
          ]
        },
        {
          "output_type": "execute_result",
          "data": {
            "text/plain": [
              "True"
            ]
          },
          "metadata": {},
          "execution_count": 9
        }
      ]
    },
    {
      "cell_type": "code",
      "source": [
        "import nltk\n",
        "nltk.download('punkt_tab')"
      ],
      "metadata": {
        "colab": {
          "base_uri": "https://localhost:8080/"
        },
        "id": "3tfDnSX-ho4O",
        "outputId": "818b7b53-4aa1-416f-f135-d8cc729c359a"
      },
      "execution_count": 13,
      "outputs": [
        {
          "output_type": "stream",
          "name": "stderr",
          "text": [
            "[nltk_data] Downloading package punkt_tab to /root/nltk_data...\n",
            "[nltk_data]   Unzipping tokenizers/punkt_tab.zip.\n"
          ]
        },
        {
          "output_type": "execute_result",
          "data": {
            "text/plain": [
              "True"
            ]
          },
          "metadata": {},
          "execution_count": 13
        }
      ]
    },
    {
      "cell_type": "code",
      "source": [
        "documents= sent_tokenize(corpus)"
      ],
      "metadata": {
        "id": "-1o74tGki_Cy"
      },
      "execution_count": 14,
      "outputs": []
    },
    {
      "cell_type": "code",
      "source": [
        "type(documents)"
      ],
      "metadata": {
        "colab": {
          "base_uri": "https://localhost:8080/"
        },
        "id": "Armj5zj3jDZt",
        "outputId": "fb611258-3332-4892-a9c6-031d5845e95e"
      },
      "execution_count": 15,
      "outputs": [
        {
          "output_type": "execute_result",
          "data": {
            "text/plain": [
              "list"
            ]
          },
          "metadata": {},
          "execution_count": 15
        }
      ]
    },
    {
      "cell_type": "code",
      "source": [
        "for sentence in documents:\n",
        "  print(sentence)"
      ],
      "metadata": {
        "colab": {
          "base_uri": "https://localhost:8080/"
        },
        "id": "GtGMon18jHa-",
        "outputId": "067c1286-cede-4c5e-e54a-32575a7a5eb3"
      },
      "execution_count": 16,
      "outputs": [
        {
          "output_type": "stream",
          "name": "stdout",
          "text": [
            " This is Kshitij Kamdi, a third year student.\n",
            "I also do make videos on youtube.\n",
            "I am a travel vlogger.\n"
          ]
        }
      ]
    },
    {
      "cell_type": "code",
      "source": [
        "#tokenization\n",
        "#corpus--> sentence\n",
        "#sentence--> words\n",
        "from nltk.tokenize import word_tokenize"
      ],
      "metadata": {
        "id": "qQrUCBJ6jU1s"
      },
      "execution_count": 17,
      "outputs": []
    },
    {
      "cell_type": "code",
      "source": [
        "word_tokenize(corpus)"
      ],
      "metadata": {
        "colab": {
          "base_uri": "https://localhost:8080/"
        },
        "id": "LPVFnEEBjqog",
        "outputId": "8ae4bcb8-d17f-47ee-8388-28f5e0410bd9"
      },
      "execution_count": 18,
      "outputs": [
        {
          "output_type": "execute_result",
          "data": {
            "text/plain": [
              "['This',\n",
              " 'is',\n",
              " 'Kshitij',\n",
              " 'Kamdi',\n",
              " ',',\n",
              " 'a',\n",
              " 'third',\n",
              " 'year',\n",
              " 'student',\n",
              " '.',\n",
              " 'I',\n",
              " 'also',\n",
              " 'do',\n",
              " 'make',\n",
              " 'videos',\n",
              " 'on',\n",
              " 'youtube',\n",
              " '.',\n",
              " 'I',\n",
              " 'am',\n",
              " 'a',\n",
              " 'travel',\n",
              " 'vlogger',\n",
              " '.']"
            ]
          },
          "metadata": {},
          "execution_count": 18
        }
      ]
    },
    {
      "cell_type": "code",
      "source": [
        "for sentence in documents:\n",
        "  print(word_tokenize(sentence))"
      ],
      "metadata": {
        "colab": {
          "base_uri": "https://localhost:8080/"
        },
        "id": "vwR0jEXqjwaE",
        "outputId": "9e247b0b-5151-4898-85bb-68d40f1ed5bd"
      },
      "execution_count": 19,
      "outputs": [
        {
          "output_type": "stream",
          "name": "stdout",
          "text": [
            "['This', 'is', 'Kshitij', 'Kamdi', ',', 'a', 'third', 'year', 'student', '.']\n",
            "['I', 'also', 'do', 'make', 'videos', 'on', 'youtube', '.']\n",
            "['I', 'am', 'a', 'travel', 'vlogger', '.']\n"
          ]
        }
      ]
    },
    {
      "cell_type": "code",
      "source": [
        "from nltk.tokenize import wordpunct_tokenize"
      ],
      "metadata": {
        "id": "9pkvvntOkHop"
      },
      "execution_count": 20,
      "outputs": []
    },
    {
      "cell_type": "code",
      "source": [
        "wordpunct_tokenize(corpus)"
      ],
      "metadata": {
        "colab": {
          "base_uri": "https://localhost:8080/"
        },
        "id": "mudAHqB6kOGL",
        "outputId": "249ef2ce-0fa6-423c-8df0-44e6c52cb883"
      },
      "execution_count": 21,
      "outputs": [
        {
          "output_type": "execute_result",
          "data": {
            "text/plain": [
              "['This',\n",
              " 'is',\n",
              " 'Kshitij',\n",
              " 'Kamdi',\n",
              " ',',\n",
              " 'a',\n",
              " 'third',\n",
              " 'year',\n",
              " 'student',\n",
              " '.',\n",
              " 'I',\n",
              " 'also',\n",
              " 'do',\n",
              " 'make',\n",
              " 'videos',\n",
              " 'on',\n",
              " 'youtube',\n",
              " '.',\n",
              " 'I',\n",
              " 'am',\n",
              " 'a',\n",
              " 'travel',\n",
              " 'vlogger',\n",
              " '.']"
            ]
          },
          "metadata": {},
          "execution_count": 21
        }
      ]
    },
    {
      "cell_type": "code",
      "source": [
        "from nltk.tokenize import TreebankWordTokenizer"
      ],
      "metadata": {
        "id": "PsN1c-yEkrhV"
      },
      "execution_count": 22,
      "outputs": []
    },
    {
      "cell_type": "code",
      "source": [
        "tokenizer= TreebankWordTokenizer()"
      ],
      "metadata": {
        "id": "c84WfBAYkzIW"
      },
      "execution_count": 23,
      "outputs": []
    },
    {
      "cell_type": "code",
      "source": [
        "tokenizer.tokenize(corpus)"
      ],
      "metadata": {
        "colab": {
          "base_uri": "https://localhost:8080/"
        },
        "id": "6aT3ba-ak61T",
        "outputId": "3600345f-1bb1-4f34-f150-14d9e2e81b3e"
      },
      "execution_count": 24,
      "outputs": [
        {
          "output_type": "execute_result",
          "data": {
            "text/plain": [
              "['This',\n",
              " 'is',\n",
              " 'Kshitij',\n",
              " 'Kamdi',\n",
              " ',',\n",
              " 'a',\n",
              " 'third',\n",
              " 'year',\n",
              " 'student.',\n",
              " 'I',\n",
              " 'also',\n",
              " 'do',\n",
              " 'make',\n",
              " 'videos',\n",
              " 'on',\n",
              " 'youtube.',\n",
              " 'I',\n",
              " 'am',\n",
              " 'a',\n",
              " 'travel',\n",
              " 'vlogger',\n",
              " '.']"
            ]
          },
          "metadata": {},
          "execution_count": 24
        }
      ]
    }
  ]
}